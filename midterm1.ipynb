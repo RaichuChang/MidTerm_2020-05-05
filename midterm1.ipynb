{
  "nbformat": 4,
  "nbformat_minor": 0,
  "metadata": {
    "colab": {
      "name": "midterm1.ipynb",
      "provenance": [],
      "collapsed_sections": []
    },
    "kernelspec": {
      "name": "python3",
      "display_name": "Python 3"
    }
  },
  "cells": [
    {
      "cell_type": "code",
      "metadata": {
        "id": "GD9-e8N6Ny4l",
        "colab_type": "code",
        "colab": {
          "base_uri": "https://localhost:8080/",
          "height": 391
        },
        "outputId": "a5e790d3-7458-462b-c4b4-edfb47f80ba6"
      },
      "source": [
        "!wget \"https://raw.githubusercontent.com/AllenDowney/ThinkDSP/master/code/thinkdsp.py\"\n",
        "!wget \"https://raw.githubusercontent.com/AllenDowney/ThinkDSP/master/code/thinkplot.py\""
      ],
      "execution_count": 1,
      "outputs": [
        {
          "output_type": "stream",
          "text": [
            "--2020-05-05 05:06:51--  https://raw.githubusercontent.com/AllenDowney/ThinkDSP/master/code/thinkdsp.py\n",
            "Resolving raw.githubusercontent.com (raw.githubusercontent.com)... 151.101.0.133, 151.101.64.133, 151.101.128.133, ...\n",
            "Connecting to raw.githubusercontent.com (raw.githubusercontent.com)|151.101.0.133|:443... connected.\n",
            "HTTP request sent, awaiting response... 200 OK\n",
            "Length: 48075 (47K) [text/plain]\n",
            "Saving to: ‘thinkdsp.py’\n",
            "\n",
            "\rthinkdsp.py           0%[                    ]       0  --.-KB/s               \rthinkdsp.py         100%[===================>]  46.95K  --.-KB/s    in 0.02s   \n",
            "\n",
            "2020-05-05 05:06:51 (1.86 MB/s) - ‘thinkdsp.py’ saved [48075/48075]\n",
            "\n",
            "--2020-05-05 05:06:53--  https://raw.githubusercontent.com/AllenDowney/ThinkDSP/master/code/thinkplot.py\n",
            "Resolving raw.githubusercontent.com (raw.githubusercontent.com)... 151.101.0.133, 151.101.64.133, 151.101.128.133, ...\n",
            "Connecting to raw.githubusercontent.com (raw.githubusercontent.com)|151.101.0.133|:443... connected.\n",
            "HTTP request sent, awaiting response... 200 OK\n",
            "Length: 22756 (22K) [text/plain]\n",
            "Saving to: ‘thinkplot.py’\n",
            "\n",
            "thinkplot.py        100%[===================>]  22.22K  --.-KB/s    in 0.01s   \n",
            "\n",
            "2020-05-05 05:06:53 (1.79 MB/s) - ‘thinkplot.py’ saved [22756/22756]\n",
            "\n"
          ],
          "name": "stdout"
        }
      ]
    },
    {
      "cell_type": "code",
      "metadata": {
        "id": "WS50yY6sOCtN",
        "colab_type": "code",
        "colab": {}
      },
      "source": [
        "# [Sol]\n",
        "from thinkdsp import Chirp\n",
        "import numpy as np\n",
        "PI2 = 2 * np.pi\n",
        "class JWTrombone(Chirp):\n",
        "    \"\"\"Represents a trombone-like signal with varying frequency.\"\"\"\n",
        "    \n",
        "    def evaluate(self, ts):\n",
        "        \"\"\"Evaluates the signal at the given times.\n",
        "\n",
        "        ts: float array of times\n",
        "        \n",
        "        returns: float wave array\n",
        "        \"\"\"\n",
        "        l1, l2 = 1.0 / self.start, 1.0 / self.end\n",
        "        lengths = np.linspace(l1, l2, len(ts))\n",
        "        freqs = 1 / lengths\n",
        "        \n",
        "        dts = np.diff(ts, prepend=0)\n",
        "        dphis = PI2 * freqs * dts\n",
        "        phases = np.cumsum(dphis)\n",
        "        ys = self.amp * np.cos(phases)\n",
        "        return ys"
      ],
      "execution_count": 0,
      "outputs": []
    },
    {
      "cell_type": "code",
      "metadata": {
        "id": "BZ7oTOxMPCDD",
        "colab_type": "code",
        "colab": {
          "base_uri": "https://localhost:8080/",
          "height": 265
        },
        "outputId": "f24174e3-89b9-4a48-8d79-04438827c85b"
      },
      "source": [
        "low = 220\n",
        "high = 440\n",
        "s1= JWTrombone(start= low, end= high)\n",
        "w1= s1.make_wave(duration=1)\n",
        "w1.make_spectrogram(512).plot(high=1000)"
      ],
      "execution_count": 16,
      "outputs": [
        {
          "output_type": "display_data",
          "data": {
            "image/png": "[encoded data removed]",
            "text/plain": [
              "<Figure size 432x288 with 1 Axes>"
            ]
          },
          "metadata": {
            "tags": [],
            "needs_background": "light"
          }
        }
      ]
    }
  ]
}