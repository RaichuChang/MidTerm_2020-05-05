{
  "nbformat": 4,
  "nbformat_minor": 0,
  "metadata": {
    "colab": {
      "name": "midterm3.ipynb",
      "provenance": []
    },
    "kernelspec": {
      "name": "python3",
      "display_name": "Python 3"
    }
  },
  "cells": [
    {
      "cell_type": "code",
      "metadata": {
        "id": "axhyBhwFYbcW",
        "colab_type": "code",
        "colab": {
          "base_uri": "https://localhost:8080/",
          "height": 391
        },
        "outputId": "af49e5ea-b6e8-4a42-a403-78350c658cd3"
      },
      "source": [
        "!wget \"https://raw.githubusercontent.com/AllenDowney/ThinkDSP/master/code/thinkdsp.py\"\n",
        "!wget \"https://raw.githubusercontent.com/AllenDowney/ThinkDSP/master/code/thinkplot.py\""
      ],
      "execution_count": 11,
      "outputs": [
        {
          "output_type": "stream",
          "text": [
            "--2020-05-05 05:47:41--  https://raw.githubusercontent.com/AllenDowney/ThinkDSP/master/code/thinkdsp.py\n",
            "Resolving raw.githubusercontent.com (raw.githubusercontent.com)... 151.101.0.133, 151.101.64.133, 151.101.128.133, ...\n",
            "Connecting to raw.githubusercontent.com (raw.githubusercontent.com)|151.101.0.133|:443... connected.\n",
            "HTTP request sent, awaiting response... 200 OK\n",
            "Length: 48075 (47K) [text/plain]\n",
            "Saving to: ‘thinkdsp.py.1’\n",
            "\n",
            "\rthinkdsp.py.1         0%[                    ]       0  --.-KB/s               \rthinkdsp.py.1       100%[===================>]  46.95K  --.-KB/s    in 0.03s   \n",
            "\n",
            "2020-05-05 05:47:41 (1.82 MB/s) - ‘thinkdsp.py.1’ saved [48075/48075]\n",
            "\n",
            "--2020-05-05 05:47:42--  https://raw.githubusercontent.com/AllenDowney/ThinkDSP/master/code/thinkplot.py\n",
            "Resolving raw.githubusercontent.com (raw.githubusercontent.com)... 151.101.0.133, 151.101.64.133, 151.101.128.133, ...\n",
            "Connecting to raw.githubusercontent.com (raw.githubusercontent.com)|151.101.0.133|:443... connected.\n",
            "HTTP request sent, awaiting response... 200 OK\n",
            "Length: 22756 (22K) [text/plain]\n",
            "Saving to: ‘thinkplot.py.1’\n",
            "\n",
            "thinkplot.py.1      100%[===================>]  22.22K  --.-KB/s    in 0.01s   \n",
            "\n",
            "2020-05-05 05:47:43 (1.80 MB/s) - ‘thinkplot.py.1’ saved [22756/22756]\n",
            "\n"
          ],
          "name": "stdout"
        }
      ]
    },
    {
      "cell_type": "code",
      "metadata": {
        "id": "hPk4RZaAKm99",
        "colab_type": "code",
        "colab": {}
      },
      "source": [
        "aUrl= 'https://query1.finance.yahoo.com/v7/finance/download/%5EGSPC?period1=-1325635200&period2=1588550400&interval=1d&events=history'\n",
        "import pandas as pd\n",
        "df= pd.read_csv(aUrl)"
      ],
      "execution_count": 0,
      "outputs": []
    },
    {
      "cell_type": "code",
      "metadata": {
        "id": "KsNtPIMeXyEY",
        "colab_type": "code",
        "colab": {
          "base_uri": "https://localhost:8080/",
          "height": 419
        },
        "outputId": "98fe4439-32fc-4f5b-f607-fa565c651abf"
      },
      "source": [
        "df"
      ],
      "execution_count": 13,
      "outputs": [
        {
          "output_type": "execute_result",
          "data": {
            "text/html": [
              "<div>\n",
              "<style scoped>\n",
              "    .dataframe tbody tr th:only-of-type {\n",
              "        vertical-align: middle;\n",
              "    }\n",
              "\n",
              "    .dataframe tbody tr th {\n",
              "        vertical-align: top;\n",
              "    }\n",
              "\n",
              "    .dataframe thead th {\n",
              "        text-align: right;\n",
              "    }\n",
              "</style>\n",
              "<table border=\"1\" class=\"dataframe\">\n",
              "  <thead>\n",
              "    <tr style=\"text-align: right;\">\n",
              "      <th></th>\n",
              "      <th>Date</th>\n",
              "      <th>Open</th>\n",
              "      <th>High</th>\n",
              "      <th>Low</th>\n",
              "      <th>Close</th>\n",
              "      <th>Adj Close</th>\n",
              "      <th>Volume</th>\n",
              "    </tr>\n",
              "  </thead>\n",
              "  <tbody>\n",
              "    <tr>\n",
              "      <th>0</th>\n",
              "      <td>1927-12-30</td>\n",
              "      <td>17.660000</td>\n",
              "      <td>17.660000</td>\n",
              "      <td>17.660000</td>\n",
              "      <td>17.660000</td>\n",
              "      <td>17.660000</td>\n",
              "      <td>0</td>\n",
              "    </tr>\n",
              "    <tr>\n",
              "      <th>1</th>\n",
              "      <td>1928-01-03</td>\n",
              "      <td>17.760000</td>\n",
              "      <td>17.760000</td>\n",
              "      <td>17.760000</td>\n",
              "      <td>17.760000</td>\n",
              "      <td>17.760000</td>\n",
              "      <td>0</td>\n",
              "    </tr>\n",
              "    <tr>\n",
              "      <th>2</th>\n",
              "      <td>1928-01-04</td>\n",
              "      <td>17.719999</td>\n",
              "      <td>17.719999</td>\n",
              "      <td>17.719999</td>\n",
              "      <td>17.719999</td>\n",
              "      <td>17.719999</td>\n",
              "      <td>0</td>\n",
              "    </tr>\n",
              "    <tr>\n",
              "      <th>3</th>\n",
              "      <td>1928-01-05</td>\n",
              "      <td>17.549999</td>\n",
              "      <td>17.549999</td>\n",
              "      <td>17.549999</td>\n",
              "      <td>17.549999</td>\n",
              "      <td>17.549999</td>\n",
              "      <td>0</td>\n",
              "    </tr>\n",
              "    <tr>\n",
              "      <th>4</th>\n",
              "      <td>1928-01-06</td>\n",
              "      <td>17.660000</td>\n",
              "      <td>17.660000</td>\n",
              "      <td>17.660000</td>\n",
              "      <td>17.660000</td>\n",
              "      <td>17.660000</td>\n",
              "      <td>0</td>\n",
              "    </tr>\n",
              "    <tr>\n",
              "      <th>...</th>\n",
              "      <td>...</td>\n",
              "      <td>...</td>\n",
              "      <td>...</td>\n",
              "      <td>...</td>\n",
              "      <td>...</td>\n",
              "      <td>...</td>\n",
              "      <td>...</td>\n",
              "    </tr>\n",
              "    <tr>\n",
              "      <th>23188</th>\n",
              "      <td>2020-04-27</td>\n",
              "      <td>2854.649902</td>\n",
              "      <td>2887.719971</td>\n",
              "      <td>2852.889893</td>\n",
              "      <td>2878.479980</td>\n",
              "      <td>2878.479980</td>\n",
              "      <td>5194260000</td>\n",
              "    </tr>\n",
              "    <tr>\n",
              "      <th>23189</th>\n",
              "      <td>2020-04-28</td>\n",
              "      <td>2909.959961</td>\n",
              "      <td>2921.149902</td>\n",
              "      <td>2860.709961</td>\n",
              "      <td>2863.389893</td>\n",
              "      <td>2863.389893</td>\n",
              "      <td>5672880000</td>\n",
              "    </tr>\n",
              "    <tr>\n",
              "      <th>23190</th>\n",
              "      <td>2020-04-29</td>\n",
              "      <td>2918.459961</td>\n",
              "      <td>2954.860107</td>\n",
              "      <td>2912.159912</td>\n",
              "      <td>2939.510010</td>\n",
              "      <td>2939.510010</td>\n",
              "      <td>6620140000</td>\n",
              "    </tr>\n",
              "    <tr>\n",
              "      <th>23191</th>\n",
              "      <td>2020-04-30</td>\n",
              "      <td>2930.909912</td>\n",
              "      <td>2930.909912</td>\n",
              "      <td>2892.469971</td>\n",
              "      <td>2912.429932</td>\n",
              "      <td>2912.429932</td>\n",
              "      <td>6523120000</td>\n",
              "    </tr>\n",
              "    <tr>\n",
              "      <th>23192</th>\n",
              "      <td>2020-05-01</td>\n",
              "      <td>2869.090088</td>\n",
              "      <td>2869.090088</td>\n",
              "      <td>2821.610107</td>\n",
              "      <td>2830.709961</td>\n",
              "      <td>2830.709961</td>\n",
              "      <td>4753160000</td>\n",
              "    </tr>\n",
              "  </tbody>\n",
              "</table>\n",
              "<p>23193 rows × 7 columns</p>\n",
              "</div>"
            ],
            "text/plain": [
              "             Date         Open  ...    Adj Close      Volume\n",
              "0      1927-12-30    17.660000  ...    17.660000           0\n",
              "1      1928-01-03    17.760000  ...    17.760000           0\n",
              "2      1928-01-04    17.719999  ...    17.719999           0\n",
              "3      1928-01-05    17.549999  ...    17.549999           0\n",
              "4      1928-01-06    17.660000  ...    17.660000           0\n",
              "...           ...          ...  ...          ...         ...\n",
              "23188  2020-04-27  2854.649902  ...  2878.479980  5194260000\n",
              "23189  2020-04-28  2909.959961  ...  2863.389893  5672880000\n",
              "23190  2020-04-29  2918.459961  ...  2939.510010  6620140000\n",
              "23191  2020-04-30  2930.909912  ...  2912.429932  6523120000\n",
              "23192  2020-05-01  2869.090088  ...  2830.709961  4753160000\n",
              "\n",
              "[23193 rows x 7 columns]"
            ]
          },
          "metadata": {
            "tags": []
          },
          "execution_count": 13
        }
      ]
    },
    {
      "cell_type": "code",
      "metadata": {
        "id": "tZkusF-vYLZa",
        "colab_type": "code",
        "colab": {
          "base_uri": "https://localhost:8080/",
          "height": 285
        },
        "outputId": "26444b0c-2a88-4d24-88f9-abceadd0c67a"
      },
      "source": [
        "import matplotlib.pyplot as pl\n",
        "ys= df['Close'].values\n",
        "ys= ys[-5000:]\n",
        "pl.plot(ys)"
      ],
      "execution_count": 14,
      "outputs": [
        {
          "output_type": "execute_result",
          "data": {
            "text/plain": [
              "[<matplotlib.lines.Line2D at 0x7fc2cb5a0160>]"
            ]
          },
          "metadata": {
            "tags": []
          },
          "execution_count": 14
        },
        {
          "output_type": "display_data",
          "data": {
            "image/png": "[encoded data removed]",
            "text/plain": [
              "<Figure size 432x288 with 1 Axes>"
            ]
          },
          "metadata": {
            "tags": [],
            "needs_background": "light"
          }
        }
      ]
    },
    {
      "cell_type": "code",
      "metadata": {
        "id": "VBqBe9DNYOs1",
        "colab_type": "code",
        "colab": {}
      },
      "source": [
        "import thinkdsp as td\n",
        "yWave= td.Wave(ys, framerate= 10000)"
      ],
      "execution_count": 0,
      "outputs": []
    },
    {
      "cell_type": "code",
      "metadata": {
        "id": "bJe0qAGTYO2f",
        "colab_type": "code",
        "colab": {
          "base_uri": "https://localhost:8080/",
          "height": 268
        },
        "outputId": "d28239bc-6535-4b5f-f112-01f885bada6f"
      },
      "source": [
        "yWave.plot()"
      ],
      "execution_count": 17,
      "outputs": [
        {
          "output_type": "display_data",
          "data": {
            "image/png": "[encoded data removed]",
            "text/plain": [
              "<Figure size 432x288 with 1 Axes>"
            ]
          },
          "metadata": {
            "tags": [],
            "needs_background": "light"
          }
        }
      ]
    },
    {
      "cell_type": "code",
      "metadata": {
        "id": "fWI4ipTXYXjR",
        "colab_type": "code",
        "colab": {
          "base_uri": "https://localhost:8080/",
          "height": 269
        },
        "outputId": "5d066569-43ea-42f3-a393-4814eb693402"
      },
      "source": [
        "yWave.make_spectrum().make_integrated_spectrum().plot_power()\n",
        "pl.xscale('log')\n",
        "pl.yscale('log')"
      ],
      "execution_count": 18,
      "outputs": [
        {
          "output_type": "display_data",
          "data": {
            "image/png": "[encoded data removed]",
            "text/plain": [
              "<Figure size 432x288 with 1 Axes>"
            ]
          },
          "metadata": {
            "tags": [],
            "needs_background": "light"
          }
        }
      ]
    },
    {
      "cell_type": "code",
      "metadata": {
        "id": "H4CjBdU1YaDA",
        "colab_type": "code",
        "colab": {}
      },
      "source": [
        "yWave.make_spectrum().make_integrated_spectrum().estimate_slope( )"
      ],
      "execution_count": 0,
      "outputs": []
    }
  ]
}